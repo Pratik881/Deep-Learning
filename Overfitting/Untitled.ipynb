{
 "cells": [
  {
   "cell_type": "code",
   "execution_count": 4,
   "id": "6e3a3c32-11dd-44a9-8fcf-53fad6764ca6",
   "metadata": {},
   "outputs": [],
   "source": [
    "\n",
    "\n",
    "# import libraries\n",
    "import torch\n",
    "import torch.nn as nn\n",
    "import numpy as np\n",
    "import matplotlib.pyplot as plt\n",
    "from sklearn.model_selection import train_test_split"
   ]
  },
  {
   "cell_type": "code",
   "execution_count": 5,
   "id": "d8cf96f5-717a-441b-b05b-922b69534ddc",
   "metadata": {},
   "outputs": [],
   "source": [
    "#import dataset\n",
    "import seaborn as sns\n",
    "iris=sns.load_dataset('iris')\n",
    "\n",
    "#convert from pandas dataframe to tensor\n",
    "data=torch.tensor(iris[iris.columns[0:4]].values).float()\n",
    "\n",
    "#transform species to number\n",
    "labels=torch.zeros(len(data),dtype=torch.long)\n",
    "labels[iris.species=='versicolor']=1\n",
    "labels[iris.species=='virginica']=2"
   ]
  },
  {
   "cell_type": "code",
   "execution_count": 10,
   "id": "8e0d1c61-021f-4f4e-86d1-c54fb9f868f3",
   "metadata": {},
   "outputs": [
    {
     "name": "stdout",
     "output_type": "stream",
     "text": [
      "[[ 11  12  13  14]\n",
      " [ 21  22  23  24]\n",
      " [ 31  32  33  34]\n",
      " [ 41  42  43  44]\n",
      " [ 51  52  53  54]\n",
      " [ 61  62  63  64]\n",
      " [ 71  72  73  74]\n",
      " [ 81  82  83  84]\n",
      " [ 91  92  93  94]\n",
      " [101 102 103 104]]\n",
      " \n",
      "[False False False False False  True  True  True  True  True]\n"
     ]
    }
   ],
   "source": [
    "fakedata=np.tile(np.array([1,2,3,4]),(10,1))+np.tile(10*np.arange(1,11),(4,1)).T\n",
    "fakelabels=np.arange(10)>4\n",
    "print(fakedata),print(' ')\n",
    "print(fakelabels)"
   ]
  },
  {
   "cell_type": "code",
   "execution_count": 12,
   "id": "f19cf3e2-8a45-4bce-9fca-4b41b89b1866",
   "metadata": {},
   "outputs": [
    {
     "name": "stdout",
     "output_type": "stream",
     "text": [
      "Training data size: (8, 4)\n",
      "Test data size : (2, 4)\n",
      " \n",
      "Training data: \n",
      "[[11 12 13 14]\n",
      " [71 72 73 74]\n",
      " [81 82 83 84]\n",
      " [61 62 63 64]\n",
      " [41 42 43 44]\n",
      " [31 32 33 34]\n",
      " [21 22 23 24]\n",
      " [51 52 53 54]]\n",
      " \n",
      "Test data: \n",
      "[[ 91  92  93  94]\n",
      " [101 102 103 104]]\n"
     ]
    }
   ],
   "source": [
    "train_data,test_data,train_labels,test_labels=\\\n",
    "                                       train_test_split(fakedata,fakelabels,test_size=.2)\n",
    "print('Training data size: '+ str(train_data.shape))\n",
    "print('Test data size : '+str(test_data.shape))\n",
    "print(' ')\n",
    "# print out the train/test data\n",
    "print('Training data: ')\n",
    "print(train_data)\n",
    "print(' ')\n",
    "\n",
    "print('Test data: ')\n",
    "print(test_data)\n",
    "     \n"
   ]
  },
  {
   "cell_type": "code",
   "execution_count": 13,
   "id": "90010cf1-f4cb-4065-af4a-dfeb0ed71bb3",
   "metadata": {},
   "outputs": [],
   "source": [
    "\n",
    "\n",
    "# a function that creates the ANN model\n",
    "\n",
    "def createANewModel():\n",
    "\n",
    "  # model architecture\n",
    "  ANNiris = nn.Sequential(\n",
    "      nn.Linear(4,64),   # input layer\n",
    "      nn.ReLU(),         # activation unit\n",
    "      nn.Linear(64,64),  # hidden layer\n",
    "      nn.ReLU(),         # activation unit\n",
    "      nn.Linear(64,3),   # output units\n",
    "        )\n",
    "\n",
    "  # loss function\n",
    "  lossfun = nn.CrossEntropyLoss()\n",
    "\n",
    "  # optimizer\n",
    "  optimizer = torch.optim.SGD(ANNiris.parameters(),lr=.01)\n",
    "\n",
    "  return ANNiris,lossfun,optimizer\n",
    "     \n"
   ]
  },
  {
   "cell_type": "code",
   "execution_count": 15,
   "id": "74308802-91cd-406b-acd6-039fc03559c3",
   "metadata": {},
   "outputs": [],
   "source": [
    "# train the model\n",
    "\n",
    "# global parameter\n",
    "numepochs = 200\n",
    "\n",
    "def trainTheModel(trainProp):\n",
    "\n",
    "  # initialize losses\n",
    "  losses = torch.zeros(numepochs)\n",
    "  trainAcc = []\n",
    "  testAcc  = []\n",
    "  X_train,X_test, y_train,y_test = train_test_split(data,labels, train_size=trainProp)\n",
    "  # loop over epochs\n",
    "  for epochi in range(numepochs):\n",
    "    # forward pass and loss\n",
    "    yHat = ANNiris(X_train)\n",
    "    loss = lossfun(yHat,y_train)\n",
    "\n",
    "    # backprop\n",
    "    optimizer.zero_grad()\n",
    "    loss.backward()\n",
    "    optimizer. step()\n",
    "\n",
    "    # compute training accuracy\n",
    "    trainAcc.append( 100*torch.mean((torch.argmax(yHat,axis=1) == y_train).float()).item() )\n",
    "\n",
    "    # test accuracy\n",
    "    predlabels = torch.argmax( ANNiris(X_test),axis=1 )\n",
    "    testAcc.append( 100*torch.mean((predlabels == y_test).float()).item() )\n",
    "\n",
    "  # function output\n",
    "  return trainAcc,testAcc"
   ]
  },
  {
   "cell_type": "code",
   "execution_count": 16,
   "id": "f15df935-ac67-4a36-9f39-718d8cea2a47",
   "metadata": {},
   "outputs": [],
   "source": [
    "# create a model\n",
    "ANNiris,lossfun,optimizer = createANewModel()\n",
    "\n",
    "# train the model\n",
    "# NOTE: the input is the training proportion, not the test proportion!\n",
    "trainAcc,testAcc = trainTheModel(.8)\n"
   ]
  },
  {
   "cell_type": "code",
   "execution_count": 17,
   "id": "62c5bae3-e76c-4a1a-9610-ddc0b6f6a5eb",
   "metadata": {},
   "outputs": [
    {
     "data": {
      "image/png": "[encoded data removed]",
      "text/plain": [
       "<Figure size 1000x500 with 1 Axes>"
      ]
     },
     "metadata": {},
     "output_type": "display_data"
    }
   ],
   "source": [
    "# plot the results\n",
    "fig = plt.figure(figsize=(10,5))\n",
    "\n",
    "plt.plot(trainAcc,'ro-')\n",
    "plt.plot(testAcc,'bs-')\n",
    "plt.xlabel('Epochs')\n",
    "plt.ylabel('Accuracy (%)')\n",
    "plt.legend(['Train','Test'])\n",
    "plt.show()"
   ]
  },
  {
   "cell_type": "code",
   "execution_count": 18,
   "id": "3c1eb090-2f40-4316-ae4b-f2736c61361f",
   "metadata": {},
   "outputs": [],
   "source": [
    "trainSetSizes = np.linspace(.2,.95,10)\n",
    "\n",
    "allTrainAcc = np.zeros((len(trainSetSizes),numepochs))\n",
    "allTestAcc = np.zeros((len(trainSetSizes),numepochs))\n",
    "\n",
    "for i in range(len(trainSetSizes)):\n",
    "\n",
    "  # create a model\n",
    "  ANNiris,lossfun,optimizer = createANewModel()\n",
    "\n",
    "  # train the model\n",
    "  trainAcc,testAcc = trainTheModel(trainSetSizes[i])\n",
    "\n",
    "  # store the results\n",
    "  allTrainAcc[i,:] = trainAcc\n",
    "  allTestAcc[i,:] = testAcc"
   ]
  },
  {
   "cell_type": "code",
   "execution_count": null,
   "id": "6a41a15a-9921-44a3-a4b6-d71d73f5d860",
   "metadata": {},
   "outputs": [],
   "source": [
    "fig,ax = plt.subplots(1,2,figsize=(13,5))\n",
    "\n",
    "ax[0].imshow(allTrainAcc,aspect='auto',\n",
    "             vmin=50,vmax=90, extent=[0,numepochs,trainSetSizes[-1],trainSetSizes[0]])\n",
    "ax[0].set_xlabel('Epochs')\n",
    "ax[0].set_ylabel('Training size proportion')\n",
    "ax[0].set_title('Training accuracy')\n",
    "\n",
    "p = ax[1].imshow(allTestAcc,aspect='auto',\n",
    "             vmin=50,vmax=90, extent=[0,numepochs,trainSetSizes[-1],trainSetSizes[0]])\n",
    "ax[1].set_xlabel('Epochs')\n",
    "ax[1].set_ylabel('Training size proportion')\n",
    "ax[1].set_title('Test accuracy')\n",
    "fig.colorbar(p,ax=ax[1])\n",
    "\n",
    "plt.show()\n",
    "     "
   ]
  }
 ],
 "metadata": {
  "kernelspec": {
   "display_name": "Python 3 (ipykernel)",
   "language": "python",
   "name": "python3"
  },
  "language_info": {
   "codemirror_mode": {
    "name": "ipython",
    "version": 3
   },
   "file_extension": ".py",
   "mimetype": "text/x-python",
   "name": "python",
   "nbconvert_exporter": "python",
   "pygments_lexer": "ipython3",
   "version": "3.11.7"
  }
 },
 "nbformat": 4,
 "nbformat_minor": 5
}
