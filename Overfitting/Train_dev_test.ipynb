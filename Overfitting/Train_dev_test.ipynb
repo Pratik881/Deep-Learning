{
 "cells": [
  {
   "cell_type": "code",
   "execution_count": 1,
   "id": "a78b037f-fcc8-4cc0-816e-d470c8e3c859",
   "metadata": {},
   "outputs": [],
   "source": [
    "#import libraries\n",
    "import numpy as np\n",
    "from sklearn.model_selection import train_test_split"
   ]
  },
  {
   "cell_type": "code",
   "execution_count": 2,
   "id": "33a5a4c7-6dde-4038-b5e0-c7d283bd0797",
   "metadata": {},
   "outputs": [
    {
     "name": "stdout",
     "output_type": "stream",
     "text": [
      "[[ 11  12  13  14]\n",
      " [ 21  22  23  24]\n",
      " [ 31  32  33  34]\n",
      " [ 41  42  43  44]\n",
      " [ 51  52  53  54]\n",
      " [ 61  62  63  64]\n",
      " [ 71  72  73  74]\n",
      " [ 81  82  83  84]\n",
      " [ 91  92  93  94]\n",
      " [101 102 103 104]]\n",
      " \n",
      "[False False False False False  True  True  True  True  True]\n"
     ]
    }
   ],
   "source": [
    "##creating fake dataset\n",
    "fakedata=np.tile(np.array([1,2,3,4]),(10,1))+np.tile(10*np.arange(1,11),(4,1)).T\n",
    "fakelabels=np.arange(10)>4\n",
    "print(fakedata),print(' ')\n",
    "print(fakelabels)"
   ]
  },
  {
   "cell_type": "code",
   "execution_count": 6,
   "id": "9d945c59-bd22-43d3-a15d-9d448aadce59",
   "metadata": {},
   "outputs": [
    {
     "name": "stdout",
     "output_type": "stream",
     "text": [
      "Training data size: (8, 4)\n",
      "Devset data size: (1, 4)\n",
      "Test data size: (1, 4)\n",
      " \n",
      "Training data: \n",
      "[[101 102 103 104]\n",
      " [ 51  52  53  54]\n",
      " [ 81  82  83  84]\n",
      " [ 11  12  13  14]\n",
      " [ 31  32  33  34]\n",
      " [ 91  92  93  94]\n",
      " [ 61  62  63  64]\n",
      " [ 41  42  43  44]]\n",
      " \n",
      "Devset data: \n",
      "[[71 72 73 74]]\n",
      " \n",
      "Test data: \n",
      "[[21 22 23 24]]\n"
     ]
    }
   ],
   "source": [
    "#tain test split\n",
    "#we specify the sizes of partitions\n",
    "#order is train,devset and test\n",
    "partitions=[.8,.1,.1]\n",
    "\n",
    "\n",
    "train_data,testTMP_data,train_labels,testTMP_labels=\\\n",
    "                                       train_test_split(fakedata,fakelabels,train_size=partitions[0])\n",
    "# now we split the TMP data\n",
    "split=partitions[1]/np.sum(partitions[1:])\n",
    "devset_data,test_data,devset_labels,test_labels=\\\n",
    "                             train_test_split(testTMP_data,testTMP_labels,train_size=split)\n",
    "  \n",
    "\n",
    "#print out the size\n",
    "# print out the sizes\n",
    "print('Training data size: ' + str(train_data.shape))\n",
    "print('Devset data size: '   + str(devset_data.shape))\n",
    "print('Test data size: '     + str(test_data.shape))\n",
    "print(' ')\n",
    "\n",
    "# print out the train/test data\n",
    "print('Training data: ')\n",
    "print(train_data)\n",
    "print(' ')\n",
    "\n",
    "print('Devset data: ')\n",
    "print(devset_data)\n",
    "print(' ')\n",
    "\n",
    "print('Test data: ')\n",
    "print(test_data)"
   ]
  },
  {
   "cell_type": "code",
   "execution_count": null,
   "id": "f6ba081b-f043-4740-b07a-4e620eb094fc",
   "metadata": {},
   "outputs": [],
   "source": []
  }
 ],
 "metadata": {
  "kernelspec": {
   "display_name": "Python 3 (ipykernel)",
   "language": "python",
   "name": "python3"
  },
  "language_info": {
   "codemirror_mode": {
    "name": "ipython",
    "version": 3
   },
   "file_extension": ".py",
   "mimetype": "text/x-python",
   "name": "python",
   "nbconvert_exporter": "python",
   "pygments_lexer": "ipython3",
   "version": "3.11.7"
  }
 },
 "nbformat": 4,
 "nbformat_minor": 5
}
