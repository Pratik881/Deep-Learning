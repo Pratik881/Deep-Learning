{
 "cells": [
  {
   "cell_type": "code",
   "execution_count": null,
   "id": "6a66f39f-675c-4665-8fd8-481bd65560ac",
   "metadata": {},
   "outputs": [],
   "source": [
    "import numpy as np\n",
    "import matplotlib.pyplot as plt\n",
    "from mpl_toolkits.mplot3d import Axes3D\n",
    "from matplotlib.animation import FuncAnimation, PillowWriter\n",
    "from IPython.display import HTML\n",
    "\n",
    "# --- Create weight grid ---\n",
    "w1 = np.linspace(-3, 5, 200)\n",
    "w2 = np.linspace(-3, 5, 200)\n",
    "W1, W2 = np.meshgrid(w1, w2)\n",
    "\n",
    "# --- Define quadratic loss function ---\n",
    "L = (W1 - 2)**2 + 4*(W2 - 1)**2\n",
    "\n",
    "# --- Create figure ---\n",
    "fig = plt.figure(figsize=(8, 6))\n",
    "ax = fig.add_subplot(111, projection='3d')\n",
    "\n",
    "# --- Initial plot ---\n",
    "surf = ax.plot_surface(W1, W2, L, cmap='viridis', alpha=0.8, edgecolor='none')\n",
    "ax.contour(W1, W2, L, zdir='z', offset=np.min(L)-5, cmap='viridis', alpha=0.8)\n",
    "\n",
    "ax.set_xlabel('Weight w1')\n",
    "ax.set_ylabel('Weight w2')\n",
    "ax.set_zlabel('Loss L(w1, w2)')\n",
    "ax.set_title('3D Loss Surface and Contours')\n",
    "\n",
    "# --- Initial camera angle ---\n",
    "ax.view_init(elev=30, azim=45)\n",
    "\n",
    "# --- Update function for animation ---\n",
    "def update(frame):\n",
    "    elev = 30 - frame * 0.3   # slowly lower the elevation\n",
    "    azim = 45 + frame * 0.6   # rotate slightly\n",
    "    ax.view_init(elev=elev, azim=azim)\n",
    "    return fig,\n",
    "\n",
    "# --- Create animation ---\n",
    "ani = FuncAnimation(fig, update, frames=100, interval=70, blit=False)\n",
    "\n",
    "# --- Show in Jupyter ---\n",
    "plt.close(fig)  # Prevent double rendering in notebooks\n",
    "display(HTML(ani.to_jshtml()))\n",
    "\n",
    "# --- Optionally Save as GIF ---\n",
    " ani.save(\"loss_surface_to_contour.gif\", writer=PillowWriter(fps=20))\n",
    " print(\"Animation saved as 'loss_surface_to_contour.gif'\")\n"
   ]
  },
  {
   "cell_type": "code",
   "execution_count": null,
   "id": "6eb2628c-3d1c-4906-baaa-56aa7b454a71",
   "metadata": {},
   "outputs": [],
   "source": []
  },
  {
   "cell_type": "code",
   "execution_count": null,
   "id": "4492e5e4-fc66-49c8-8658-f07b927d4d35",
   "metadata": {},
   "outputs": [],
   "source": []
  }
 ],
 "metadata": {
  "kernelspec": {
   "display_name": "Python 3 (ipykernel)",
   "language": "python",
   "name": "python3"
  },
  "language_info": {
   "codemirror_mode": {
    "name": "ipython",
    "version": 3
   },
   "file_extension": ".py",
   "mimetype": "text/x-python",
   "name": "python",
   "nbconvert_exporter": "python",
   "pygments_lexer": "ipython3",
   "version": "3.11.7"
  }
 },
 "nbformat": 4,
 "nbformat_minor": 5
}
